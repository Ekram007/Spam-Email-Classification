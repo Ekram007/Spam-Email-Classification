{
  "nbformat": 4,
  "nbformat_minor": 0,
  "metadata": {
    "kernelspec": {
      "language": "python",
      "display_name": "Python 3",
      "name": "python3"
    },
    "language_info": {
      "pygments_lexer": "ipython3",
      "nbconvert_exporter": "python",
      "version": "3.6.4",
      "file_extension": ".py",
      "codemirror_mode": {
        "name": "ipython",
        "version": 3
      },
      "name": "python",
      "mimetype": "text/x-python"
    },
    "colab": {
      "name": "Spam Mail Classificaion.ipynb",
      "provenance": []
    },
    "accelerator": "GPU"
  },
  "cells": [
    {
      "cell_type": "code",
      "metadata": {
        "colab": {
          "base_uri": "https://localhost:8080/"
        },
        "id": "7-XAJVgJuQAr",
        "outputId": "d9e47590-6d61-4550-bc7f-8890dbb644fa"
      },
      "source": [
        "from google.colab import drive\n",
        "drive.mount('/content/drive')"
      ],
      "execution_count": null,
      "outputs": [
        {
          "output_type": "stream",
          "text": [
            "Mounted at /content/drive\n"
          ],
          "name": "stdout"
        }
      ]
    },
    {
      "cell_type": "markdown",
      "metadata": {
        "id": "KrT4xdKar9eH"
      },
      "source": [
        "# Spam Email Classification Model"
      ]
    },
    {
      "cell_type": "code",
      "metadata": {
        "_uuid": "8f2839f25d086af736a60e9eeb907d3b93b6e0e5",
        "_cell_guid": "b1076dfc-b9ad-4769-8c92-a6c4dae69d19",
        "execution": {
          "iopub.status.busy": "2021-06-25T11:39:23.53802Z",
          "iopub.execute_input": "2021-06-25T11:39:23.53843Z",
          "iopub.status.idle": "2021-06-25T11:39:23.543318Z",
          "shell.execute_reply.started": "2021-06-25T11:39:23.538391Z",
          "shell.execute_reply": "2021-06-25T11:39:23.54225Z"
        },
        "trusted": true,
        "id": "w6NrFphAr9eU"
      },
      "source": [
        "# importing system libraries\n",
        "\n",
        "from os import walk\n",
        "from string import punctuation\n",
        "from random import shuffle\n",
        "from collections import Counter\n",
        "\n",
        "# importing additional libraries\n",
        "\n",
        "import pandas as pd\n",
        "import sklearn as sk\n",
        "import nltk"
      ],
      "execution_count": null,
      "outputs": []
    },
    {
      "cell_type": "code",
      "metadata": {
        "id": "YkRkdtb7uuh5"
      },
      "source": [
        "from zipfile import ZipFile"
      ],
      "execution_count": null,
      "outputs": []
    },
    {
      "cell_type": "code",
      "metadata": {
        "id": "xkEaJZbJsif8"
      },
      "source": [
        "with ZipFile('/content/drive/MyDrive/Dataset/Enron Dataset/archive.zip', 'r') as zipObj:\n",
        "   # Extract all the contents of zip file in current directory\n",
        "   zipObj.extractall('/content/drive/MyDrive/Dataset/Enron Dataset')"
      ],
      "execution_count": null,
      "outputs": []
    },
    {
      "cell_type": "code",
      "metadata": {
        "execution": {
          "iopub.status.busy": "2021-06-25T09:57:04.007091Z",
          "iopub.execute_input": "2021-06-25T09:57:04.007455Z",
          "iopub.status.idle": "2021-06-25T09:58:35.343534Z",
          "shell.execute_reply.started": "2021-06-25T09:57:04.007426Z",
          "shell.execute_reply": "2021-06-25T09:58:35.342414Z"
        },
        "trusted": true,
        "id": "waXafKxNr9eX"
      },
      "source": [
        "# Read the whole data from the Enron Dataset into a variable allData.\n",
        "\n",
        "pathwalk = walk(r\"/content/drive/MyDrive/Dataset/Enron Dataset\")\n",
        "\n",
        "allHamData, allSpamData = [], []\n",
        "for root, dr, file in pathwalk:\n",
        "    if 'ham' in str(file):\n",
        "        for obj in file:\n",
        "            with open(root + '/' + obj, encoding='latin1') as ip:\n",
        "                allHamData.append(\" \".join(ip.readlines()))\n",
        "                \n",
        "    elif 'spam' in str(file):\n",
        "        for obj in file:\n",
        "            with open(root + '/' + obj, encoding='latin1') as ip:\n",
        "                allSpamData.append(\" \".join(ip.readlines()))"
      ],
      "execution_count": null,
      "outputs": []
    },
    {
      "cell_type": "code",
      "metadata": {
        "execution": {
          "iopub.status.busy": "2021-06-25T09:58:53.19835Z",
          "iopub.execute_input": "2021-06-25T09:58:53.198685Z",
          "iopub.status.idle": "2021-06-25T09:58:53.245866Z",
          "shell.execute_reply.started": "2021-06-25T09:58:53.198658Z",
          "shell.execute_reply": "2021-06-25T09:58:53.244761Z"
        },
        "trusted": true,
        "id": "JJXONhHGr9ec"
      },
      "source": [
        "# remove all redundent data\n",
        "\n",
        "allHamData = list(set(allHamData))\n",
        "allSpamData = list(set(allSpamData))"
      ],
      "execution_count": null,
      "outputs": []
    },
    {
      "cell_type": "code",
      "metadata": {
        "execution": {
          "iopub.status.busy": "2021-06-25T10:22:41.969125Z",
          "iopub.execute_input": "2021-06-25T10:22:41.969671Z",
          "iopub.status.idle": "2021-06-25T10:22:41.98648Z",
          "shell.execute_reply.started": "2021-06-25T10:22:41.969623Z",
          "shell.execute_reply": "2021-06-25T10:22:41.985619Z"
        },
        "trusted": true,
        "id": "9Ar4LSQ0r9ee"
      },
      "source": [
        "# storing it in a dataframe\n",
        "\n",
        "hamPlusSpamData = allHamData + allSpamData\n",
        "labels = [\"ham\"]*len(allHamData) + [\"spam\"]*len(allSpamData)\n",
        "\n",
        "raw_df = pd.DataFrame({\"email\": hamPlusSpamData, \n",
        "                       \"label\": labels})"
      ],
      "execution_count": null,
      "outputs": []
    },
    {
      "cell_type": "code",
      "metadata": {
        "execution": {
          "iopub.status.busy": "2021-06-25T11:19:59.115614Z",
          "iopub.execute_input": "2021-06-25T11:19:59.116091Z",
          "iopub.status.idle": "2021-06-25T11:19:59.130622Z",
          "shell.execute_reply.started": "2021-06-25T11:19:59.116054Z",
          "shell.execute_reply": "2021-06-25T11:19:59.129364Z"
        },
        "trusted": true,
        "id": "T8Abd_Nmr9ef",
        "colab": {
          "base_uri": "https://localhost:8080/",
          "height": 204
        },
        "outputId": "4216b034-d138-4395-d435-a0610c105a73"
      },
      "source": [
        "# checking how it looks\n",
        "\n",
        "raw_df.sample(5)"
      ],
      "execution_count": null,
      "outputs": [
        {
          "output_type": "execute_result",
          "data": {
            "text/html": [
              "<div>\n",
              "<style scoped>\n",
              "    .dataframe tbody tr th:only-of-type {\n",
              "        vertical-align: middle;\n",
              "    }\n",
              "\n",
              "    .dataframe tbody tr th {\n",
              "        vertical-align: top;\n",
              "    }\n",
              "\n",
              "    .dataframe thead th {\n",
              "        text-align: right;\n",
              "    }\n",
              "</style>\n",
              "<table border=\"1\" class=\"dataframe\">\n",
              "  <thead>\n",
              "    <tr style=\"text-align: right;\">\n",
              "      <th></th>\n",
              "      <th>email</th>\n",
              "      <th>label</th>\n",
              "    </tr>\n",
              "  </thead>\n",
              "  <tbody>\n",
              "    <tr>\n",
              "      <th>21138</th>\n",
              "      <td>Subject: ( otcbb : necx ) alternative energy c...</td>\n",
              "      <td>spam</td>\n",
              "    </tr>\n",
              "    <tr>\n",
              "      <th>24119</th>\n",
              "      <td>Subject: fw : 2 minutes to read what i have to...</td>\n",
              "      <td>spam</td>\n",
              "    </tr>\n",
              "    <tr>\n",
              "      <th>19221</th>\n",
              "      <td>Subject: spyglass\\n maxine , . . . . nightdres...</td>\n",
              "      <td>spam</td>\n",
              "    </tr>\n",
              "    <tr>\n",
              "      <th>9800</th>\n",
              "      <td>Subject: last call for accountants . . . . .\\n...</td>\n",
              "      <td>ham</td>\n",
              "    </tr>\n",
              "    <tr>\n",
              "      <th>9849</th>\n",
              "      <td>Subject: re : ena sales on hpl\\n daren - thank...</td>\n",
              "      <td>ham</td>\n",
              "    </tr>\n",
              "  </tbody>\n",
              "</table>\n",
              "</div>"
            ],
            "text/plain": [
              "                                                   email label\n",
              "21138  Subject: ( otcbb : necx ) alternative energy c...  spam\n",
              "24119  Subject: fw : 2 minutes to read what i have to...  spam\n",
              "19221  Subject: spyglass\\n maxine , . . . . nightdres...  spam\n",
              "9800   Subject: last call for accountants . . . . .\\n...   ham\n",
              "9849   Subject: re : ena sales on hpl\\n daren - thank...   ham"
            ]
          },
          "metadata": {
            "tags": []
          },
          "execution_count": 9
        }
      ]
    },
    {
      "cell_type": "code",
      "metadata": {
        "execution": {
          "iopub.status.busy": "2021-06-25T11:13:28.017162Z",
          "iopub.execute_input": "2021-06-25T11:13:28.018009Z",
          "iopub.status.idle": "2021-06-25T11:13:28.175732Z",
          "shell.execute_reply.started": "2021-06-25T11:13:28.017954Z",
          "shell.execute_reply": "2021-06-25T11:13:28.174671Z"
        },
        "trusted": true,
        "id": "fWmmjbPdr9eh",
        "colab": {
          "base_uri": "https://localhost:8080/",
          "height": 282
        },
        "outputId": "f1b66883-545f-4948-e799-c977eccdc4fb"
      },
      "source": [
        "# get an overview of the data\n",
        "\n",
        "raw_df.label.hist(bins=3)"
      ],
      "execution_count": null,
      "outputs": [
        {
          "output_type": "execute_result",
          "data": {
            "text/plain": [
              "<matplotlib.axes._subplots.AxesSubplot at 0x7f18608e4190>"
            ]
          },
          "metadata": {
            "tags": []
          },
          "execution_count": 10
        },
        {
          "output_type": "display_data",
          "data": {
            "image/png": "[encoded data removed]",
            "text/plain": [
              "<Figure size 432x288 with 1 Axes>"
            ]
          },
          "metadata": {
            "tags": [],
            "needs_background": "light"
          }
        }
      ]
    },
    {
      "cell_type": "markdown",
      "metadata": {
        "id": "3ptTiFmZr9eh"
      },
      "source": [
        "# NLTK's Naive Bayes Classifier\n",
        "### with custom text pre-processor using NLTK's word_tokenize and WordNetLemmatizer"
      ]
    },
    {
      "cell_type": "code",
      "metadata": {
        "execution": {
          "iopub.status.busy": "2021-06-25T10:22:54.334963Z",
          "iopub.execute_input": "2021-06-25T10:22:54.335301Z",
          "iopub.status.idle": "2021-06-25T10:22:54.343331Z",
          "shell.execute_reply.started": "2021-06-25T10:22:54.335272Z",
          "shell.execute_reply": "2021-06-25T10:22:54.341689Z"
        },
        "trusted": true,
        "id": "bWK87iMor9ei"
      },
      "source": [
        "# creating a preprocessing function\n",
        "# to tokenize and lemmatize the data using NLTK library\n",
        "\n",
        "def preprocess(data):\n",
        "    # tokenization\n",
        "    tokens = nltk.word_tokenize(data)\n",
        "    tokens = [w.lower() for w in tokens if w.isalpha()]\n",
        "\n",
        "    # finding uncommon words\n",
        "    cnt = Counter(tokens)\n",
        "    uncommons = cnt.most_common()[:-int(len(cnt)*0.1):-1]\n",
        "    \n",
        "    # listing stopwords from NLTK\n",
        "    stops = set(nltk.corpus.stopwords.words('english'))\n",
        "\n",
        "    # removing stop words and uncommon words\n",
        "    tokens = [w for w in tokens if (w not in stops and w not in uncommons)]\n",
        "\n",
        "    # lemmatization\n",
        "    lemmatizer = nltk.WordNetLemmatizer()\n",
        "    tokens = [lemmatizer.lemmatize(w, pos='a') for w in tokens]\n",
        "\n",
        "    return tokens"
      ],
      "execution_count": null,
      "outputs": []
    },
    {
      "cell_type": "code",
      "metadata": {
        "colab": {
          "base_uri": "https://localhost:8080/"
        },
        "id": "GWHu0KlvC_Ge",
        "outputId": "ff3a480b-d698-46b6-c56b-17da5e02e683"
      },
      "source": [
        "import nltk\n",
        "nltk.download('punkt')"
      ],
      "execution_count": null,
      "outputs": [
        {
          "output_type": "stream",
          "text": [
            "[nltk_data] Downloading package punkt to /root/nltk_data...\n",
            "[nltk_data]   Package punkt is already up-to-date!\n"
          ],
          "name": "stdout"
        },
        {
          "output_type": "execute_result",
          "data": {
            "text/plain": [
              "True"
            ]
          },
          "metadata": {
            "tags": []
          },
          "execution_count": 18
        }
      ]
    },
    {
      "cell_type": "code",
      "metadata": {
        "colab": {
          "base_uri": "https://localhost:8080/"
        },
        "id": "a-nh6mnFDVwJ",
        "outputId": "d60b2c05-4993-4c24-9b14-c72b2841693e"
      },
      "source": [
        "import nltk\n",
        "nltk.download('wordnet')"
      ],
      "execution_count": null,
      "outputs": [
        {
          "output_type": "stream",
          "text": [
            "[nltk_data] Downloading package wordnet to /root/nltk_data...\n",
            "[nltk_data]   Unzipping corpora/wordnet.zip.\n"
          ],
          "name": "stdout"
        },
        {
          "output_type": "execute_result",
          "data": {
            "text/plain": [
              "True"
            ]
          },
          "metadata": {
            "tags": []
          },
          "execution_count": 19
        }
      ]
    },
    {
      "cell_type": "code",
      "metadata": {
        "id": "WKZghJx1zisH",
        "colab": {
          "base_uri": "https://localhost:8080/"
        },
        "outputId": "5d240f91-77d3-48d0-8340-f55a83b45d70"
      },
      "source": [
        "import nltk\n",
        "nltk.download('stopwords')"
      ],
      "execution_count": null,
      "outputs": [
        {
          "output_type": "stream",
          "text": [
            "[nltk_data] Downloading package stopwords to /root/nltk_data...\n",
            "[nltk_data]   Unzipping corpora/stopwords.zip.\n"
          ],
          "name": "stdout"
        },
        {
          "output_type": "execute_result",
          "data": {
            "text/plain": [
              "True"
            ]
          },
          "metadata": {
            "tags": []
          },
          "execution_count": 12
        }
      ]
    },
    {
      "cell_type": "code",
      "metadata": {
        "id": "vW4tSr2ezeHa"
      },
      "source": [
        "# pre-processing the emails\n",
        "# using word_tokenize() and WordNetLemmatizer()\n",
        "\n",
        "nltk_processed_df = pd.DataFrame()\n",
        "nltk_processed_df['email'] = [preprocess(e) for e in raw_df.email]"
      ],
      "execution_count": null,
      "outputs": []
    },
    {
      "cell_type": "code",
      "metadata": {
        "execution": {
          "iopub.status.busy": "2021-06-25T11:17:29.95014Z",
          "iopub.execute_input": "2021-06-25T11:17:29.950591Z",
          "iopub.status.idle": "2021-06-25T11:17:29.96397Z",
          "shell.execute_reply.started": "2021-06-25T11:17:29.950544Z",
          "shell.execute_reply": "2021-06-25T11:17:29.96262Z"
        },
        "trusted": true,
        "id": "Rrtc733tr9ek"
      },
      "source": [
        "# label encoding the labels\n",
        "\n",
        "label_encoder = sk.preprocessing.LabelEncoder()\n",
        "nltk_processed_df['label'] = label_encoder.fit_transform(raw_df.label)"
      ],
      "execution_count": null,
      "outputs": []
    },
    {
      "cell_type": "code",
      "metadata": {
        "execution": {
          "iopub.status.busy": "2021-06-25T11:17:29.9664Z",
          "iopub.execute_input": "2021-06-25T11:17:29.966888Z",
          "iopub.status.idle": "2021-06-25T11:17:29.989347Z",
          "shell.execute_reply.started": "2021-06-25T11:17:29.966842Z",
          "shell.execute_reply": "2021-06-25T11:17:29.988221Z"
        },
        "trusted": true,
        "id": "4nGXdk_Or9ek",
        "colab": {
          "base_uri": "https://localhost:8080/",
          "height": 204
        },
        "outputId": "55288df4-138a-4a0d-980e-fde52d4b084d"
      },
      "source": [
        "# checking how the processed data looks like\n",
        "\n",
        "nltk_processed_df.sample(5)"
      ],
      "execution_count": null,
      "outputs": [
        {
          "output_type": "execute_result",
          "data": {
            "text/html": [
              "<div>\n",
              "<style scoped>\n",
              "    .dataframe tbody tr th:only-of-type {\n",
              "        vertical-align: middle;\n",
              "    }\n",
              "\n",
              "    .dataframe tbody tr th {\n",
              "        vertical-align: top;\n",
              "    }\n",
              "\n",
              "    .dataframe thead th {\n",
              "        text-align: right;\n",
              "    }\n",
              "</style>\n",
              "<table border=\"1\" class=\"dataframe\">\n",
              "  <thead>\n",
              "    <tr style=\"text-align: right;\">\n",
              "      <th></th>\n",
              "      <th>email</th>\n",
              "      <th>label</th>\n",
              "    </tr>\n",
              "  </thead>\n",
              "  <tbody>\n",
              "    <tr>\n",
              "      <th>1745</th>\n",
              "      <td>[subject, california, update, though, announce...</td>\n",
              "      <td>0</td>\n",
              "    </tr>\n",
              "    <tr>\n",
              "      <th>18931</th>\n",
              "      <td>[subject, inexpensive, software, looking, inex...</td>\n",
              "      <td>1</td>\n",
              "    </tr>\n",
              "    <tr>\n",
              "      <th>5050</th>\n",
              "      <td>[subject, tenaska, agreement, darren, know, si...</td>\n",
              "      <td>0</td>\n",
              "    </tr>\n",
              "    <tr>\n",
              "      <th>15624</th>\n",
              "      <td>[subject, california, capacity, report, week, ...</td>\n",
              "      <td>0</td>\n",
              "    </tr>\n",
              "    <tr>\n",
              "      <th>540</th>\n",
              "      <td>[subject, cusip, david, cusip, bond, efo, pgc,...</td>\n",
              "      <td>0</td>\n",
              "    </tr>\n",
              "  </tbody>\n",
              "</table>\n",
              "</div>"
            ],
            "text/plain": [
              "                                                   email  label\n",
              "1745   [subject, california, update, though, announce...      0\n",
              "18931  [subject, inexpensive, software, looking, inex...      1\n",
              "5050   [subject, tenaska, agreement, darren, know, si...      0\n",
              "15624  [subject, california, capacity, report, week, ...      0\n",
              "540    [subject, cusip, david, cusip, bond, efo, pgc,...      0"
            ]
          },
          "metadata": {
            "tags": []
          },
          "execution_count": 22
        }
      ]
    },
    {
      "cell_type": "code",
      "metadata": {
        "execution": {
          "iopub.status.busy": "2021-06-25T11:17:29.991449Z",
          "iopub.execute_input": "2021-06-25T11:17:29.992088Z",
          "iopub.status.idle": "2021-06-25T11:17:30.666029Z",
          "shell.execute_reply.started": "2021-06-25T11:17:29.992049Z",
          "shell.execute_reply": "2021-06-25T11:17:30.665059Z"
        },
        "trusted": true,
        "id": "5VHTCX45r9el"
      },
      "source": [
        "# converting categorical email data to numerical data using Counters\n",
        "\n",
        "X, y = nltk_processed_df.email, nltk_processed_df.label\n",
        "X_featurized = [Counter(i) for i in X]"
      ],
      "execution_count": null,
      "outputs": []
    },
    {
      "cell_type": "code",
      "metadata": {
        "execution": {
          "iopub.status.busy": "2021-06-25T11:17:30.667335Z",
          "iopub.execute_input": "2021-06-25T11:17:30.667874Z",
          "iopub.status.idle": "2021-06-25T11:17:32.438115Z",
          "shell.execute_reply.started": "2021-06-25T11:17:30.667842Z",
          "shell.execute_reply": "2021-06-25T11:17:32.437078Z"
        },
        "trusted": true,
        "id": "xQ7DcjtFr9el"
      },
      "source": [
        "# getting the data ready for NaiveBayesClassifier \n",
        "# randomizing using shuffle\n",
        "# manually splitting into test and train data\n",
        "\n",
        "allDataProcessed = [(X_featurized[i], y[i]) for i in range(len(X))]\n",
        "\n",
        "shuffle(allDataProcessed)\n",
        "\n",
        "trainData, testData = allDataProcessed[:int(len(allDataProcessed)*0.7)], allDataProcessed[int(len(allDataProcessed)*0.7):]"
      ],
      "execution_count": null,
      "outputs": []
    },
    {
      "cell_type": "code",
      "metadata": {
        "execution": {
          "iopub.status.busy": "2021-06-25T11:17:32.439674Z",
          "iopub.execute_input": "2021-06-25T11:17:32.440087Z",
          "iopub.status.idle": "2021-06-25T11:17:41.484314Z",
          "shell.execute_reply.started": "2021-06-25T11:17:32.440046Z",
          "shell.execute_reply": "2021-06-25T11:17:41.483254Z"
        },
        "trusted": true,
        "id": "otc4Xw_Gr9em"
      },
      "source": [
        "# Training the model\n",
        "\n",
        "model_nltkNaiveBayes = nltk.classify.NaiveBayesClassifier.train(trainData)"
      ],
      "execution_count": null,
      "outputs": []
    },
    {
      "cell_type": "code",
      "metadata": {
        "execution": {
          "iopub.status.busy": "2021-06-25T11:17:41.485591Z",
          "iopub.execute_input": "2021-06-25T11:17:41.485886Z",
          "iopub.status.idle": "2021-06-25T11:17:46.06516Z",
          "shell.execute_reply.started": "2021-06-25T11:17:41.485859Z",
          "shell.execute_reply": "2021-06-25T11:17:46.063883Z"
        },
        "trusted": true,
        "id": "wackryC1r9en",
        "colab": {
          "base_uri": "https://localhost:8080/"
        },
        "outputId": "67e524f4-1ebf-45f6-aed6-6a1708c6ea67"
      },
      "source": [
        "# Testing the model\n",
        "\n",
        "testing_accuracy = nltk.classify.accuracy(model_nltkNaiveBayes, testData)\n",
        "print(\"Accuracy with NLTK's Naive Bayes classifier is:\", testing_accuracy)"
      ],
      "execution_count": null,
      "outputs": [
        {
          "output_type": "stream",
          "text": [
            "Accuracy with NLTK's Naive Bayes classifier is: 0.9879755137735025\n"
          ],
          "name": "stdout"
        }
      ]
    },
    {
      "cell_type": "markdown",
      "metadata": {
        "id": "KdiUNBGOr9en"
      },
      "source": [
        "# Scikit-learn's Multinomial Naive Bayes Classifier\n",
        "### with CountVectorizer and TfidfVectorizer comparison"
      ]
    },
    {
      "cell_type": "code",
      "metadata": {
        "execution": {
          "iopub.status.busy": "2021-06-25T11:21:41.649446Z",
          "iopub.execute_input": "2021-06-25T11:21:41.649905Z",
          "iopub.status.idle": "2021-06-25T11:22:55.444114Z",
          "shell.execute_reply.started": "2021-06-25T11:21:41.64987Z",
          "shell.execute_reply": "2021-06-25T11:22:55.442937Z"
        },
        "trusted": true,
        "id": "tXXP3lQ6r9ep",
        "colab": {
          "base_uri": "https://localhost:8080/"
        },
        "outputId": "ab07b5a9-3643-4dad-96ef-de3d6d080fe4"
      },
      "source": [
        "# Vectorize the features using CountVectorizer\n",
        "\n",
        "cv_vec = sk.feature_extraction.text.CountVectorizer(tokenizer = nltk.word_tokenize, \n",
        "                                                    stop_words = nltk.corpus.stopwords.words(\"english\"))\n",
        "\n",
        "cv_X = cv_vec.fit_transform(raw_df.email)"
      ],
      "execution_count": null,
      "outputs": [
        {
          "output_type": "stream",
          "text": [
            "/usr/local/lib/python3.7/dist-packages/sklearn/feature_extraction/text.py:385: UserWarning: Your stop_words may be inconsistent with your preprocessing. Tokenizing the stop words generated tokens [\"'d\", \"'ll\", \"'re\", \"'s\", \"'ve\", 'could', 'might', 'must', \"n't\", 'need', 'sha', 'wo', 'would'] not in stop_words.\n",
            "  'stop_words.' % sorted(inconsistent))\n"
          ],
          "name": "stderr"
        }
      ]
    },
    {
      "cell_type": "code",
      "metadata": {
        "execution": {
          "iopub.status.busy": "2021-06-25T11:23:14.544208Z",
          "iopub.execute_input": "2021-06-25T11:23:14.544609Z",
          "iopub.status.idle": "2021-06-25T11:24:28.357574Z",
          "shell.execute_reply.started": "2021-06-25T11:23:14.544576Z",
          "shell.execute_reply": "2021-06-25T11:24:28.356496Z"
        },
        "trusted": true,
        "id": "drCdnY97r9eq"
      },
      "source": [
        "# Vectorize the features using TfidfVectorizer\n",
        "\n",
        "tfidf_vec = sk.feature_extraction.text.TfidfVectorizer(tokenizer = nltk.word_tokenize, \n",
        "                                                    stop_words = nltk.corpus.stopwords.words(\"english\"))\n",
        "\n",
        "tdidf_X = cv_vec.fit_transform(raw_df.email)"
      ],
      "execution_count": null,
      "outputs": []
    },
    {
      "cell_type": "code",
      "metadata": {
        "execution": {
          "iopub.status.busy": "2021-06-25T11:38:41.944888Z",
          "iopub.execute_input": "2021-06-25T11:38:41.945302Z",
          "iopub.status.idle": "2021-06-25T11:38:41.957786Z",
          "shell.execute_reply.started": "2021-06-25T11:38:41.945268Z",
          "shell.execute_reply": "2021-06-25T11:38:41.956611Z"
        },
        "trusted": true,
        "id": "3FSHKnF9r9er"
      },
      "source": [
        "# label encode the labels using LabelEncoder\n",
        "\n",
        "label_encoder = sk.preprocessing.LabelEncoder()\n",
        "y = label_encoder.fit_transform(raw_df.label)"
      ],
      "execution_count": null,
      "outputs": []
    },
    {
      "cell_type": "code",
      "metadata": {
        "execution": {
          "iopub.status.busy": "2021-06-25T11:40:10.218137Z",
          "iopub.execute_input": "2021-06-25T11:40:10.218505Z",
          "iopub.status.idle": "2021-06-25T11:40:10.227344Z",
          "shell.execute_reply.started": "2021-06-25T11:40:10.218476Z",
          "shell.execute_reply": "2021-06-25T11:40:10.226415Z"
        },
        "trusted": true,
        "id": "eQF8DvMrr9er"
      },
      "source": [
        "# loading the MultinomialNB model\n",
        "\n",
        "from sklearn.naive_bayes import MultinomialNB\n",
        "model_sklearn_mnb = MultinomialNB()"
      ],
      "execution_count": null,
      "outputs": []
    },
    {
      "cell_type": "code",
      "metadata": {
        "execution": {
          "iopub.status.busy": "2021-06-25T11:46:47.189625Z",
          "iopub.execute_input": "2021-06-25T11:46:47.19014Z",
          "iopub.status.idle": "2021-06-25T11:46:47.734387Z",
          "shell.execute_reply.started": "2021-06-25T11:46:47.1901Z",
          "shell.execute_reply": "2021-06-25T11:46:47.733234Z"
        },
        "trusted": true,
        "id": "cyadXEQpr9es"
      },
      "source": [
        "# getting cross validation score on count-vectorized features\n",
        "# getting cross validation score on tfidf processed features\n",
        "\n",
        "cv_score = sk.model_selection.cross_validate(model_sklearn_mnb, cv_X, y)\n",
        "\n",
        "tfidf_score = sk.model_selection.cross_validate(model_sklearn_mnb, tdidf_X, y)"
      ],
      "execution_count": null,
      "outputs": []
    },
    {
      "cell_type": "code",
      "metadata": {
        "execution": {
          "iopub.status.busy": "2021-06-25T11:54:09.129408Z",
          "iopub.execute_input": "2021-06-25T11:54:09.129838Z",
          "iopub.status.idle": "2021-06-25T11:54:09.149667Z",
          "shell.execute_reply.started": "2021-06-25T11:54:09.129802Z",
          "shell.execute_reply": "2021-06-25T11:54:09.148367Z"
        },
        "trusted": true,
        "id": "vGDGHXHOr9et",
        "colab": {
          "base_uri": "https://localhost:8080/",
          "height": 111
        },
        "outputId": "19755200-9f79-4053-c952-1a7098acf5de"
      },
      "source": [
        "# checking the scores by putting them into a dataframe first\n",
        "\n",
        "sklearn_scores = pd.DataFrame([cv_score, tfidf_score], index=['CountVetorizer', 'TfidfVectorizer'])\n",
        "sklearn_scores = sklearn_scores.applymap(lambda x: x.mean())\n",
        "\n",
        "sklearn_scores"
      ],
      "execution_count": null,
      "outputs": [
        {
          "output_type": "execute_result",
          "data": {
            "text/html": [
              "<div>\n",
              "<style scoped>\n",
              "    .dataframe tbody tr th:only-of-type {\n",
              "        vertical-align: middle;\n",
              "    }\n",
              "\n",
              "    .dataframe tbody tr th {\n",
              "        vertical-align: top;\n",
              "    }\n",
              "\n",
              "    .dataframe thead th {\n",
              "        text-align: right;\n",
              "    }\n",
              "</style>\n",
              "<table border=\"1\" class=\"dataframe\">\n",
              "  <thead>\n",
              "    <tr style=\"text-align: right;\">\n",
              "      <th></th>\n",
              "      <th>fit_time</th>\n",
              "      <th>score_time</th>\n",
              "      <th>test_score</th>\n",
              "    </tr>\n",
              "  </thead>\n",
              "  <tbody>\n",
              "    <tr>\n",
              "      <th>CountVetorizer</th>\n",
              "      <td>0.036056</td>\n",
              "      <td>0.006488</td>\n",
              "      <td>0.98416</td>\n",
              "    </tr>\n",
              "    <tr>\n",
              "      <th>TfidfVectorizer</th>\n",
              "      <td>0.034966</td>\n",
              "      <td>0.006157</td>\n",
              "      <td>0.98416</td>\n",
              "    </tr>\n",
              "  </tbody>\n",
              "</table>\n",
              "</div>"
            ],
            "text/plain": [
              "                 fit_time  score_time  test_score\n",
              "CountVetorizer   0.036056    0.006488     0.98416\n",
              "TfidfVectorizer  0.034966    0.006157     0.98416"
            ]
          },
          "metadata": {
            "tags": []
          },
          "execution_count": 32
        }
      ]
    }
  ]
}